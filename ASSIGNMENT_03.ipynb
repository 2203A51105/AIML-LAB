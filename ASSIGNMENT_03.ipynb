{
  "cells": [
    {
      "cell_type": "markdown",
      "metadata": {
        "id": "view-in-github",
        "colab_type": "text"
      },
      "source": [
        "<a href=\"https://colab.research.google.com/github/Varunsai1105/AIML-LAB/blob/main/ASSIGNMENT_03.ipynb\" target=\"_parent\"><img src=\"https://colab.research.google.com/assets/colab-badge.svg\" alt=\"Open In Colab\"/></a>"
      ]
    },
    {
      "cell_type": "markdown",
      "metadata": {
        "id": "2C1R5FM9eX1U"
      },
      "source": [
        "lab3: implement breadth first search ,depth first and A*search algorithm part1:implement breadth first serach algorithm using queue"
      ]
    },
    {
      "cell_type": "code",
      "execution_count": 1,
      "metadata": {
        "id": "CPIS0hESeaoL"
      },
      "outputs": [],
      "source": [
        "import numpy as np\n"
      ]
    },
    {
      "cell_type": "code",
      "execution_count": 2,
      "metadata": {
        "colab": {
          "base_uri": "https://localhost:8080/"
        },
        "id": "zaLdIfbSefWt",
        "outputId": "15678ac4-e67c-471a-98a9-b34c17c6e050"
      },
      "outputs": [
        {
          "output_type": "stream",
          "name": "stdout",
          "text": [
            "the adjacency list representing the graph is:\n",
            "{0: [1, 2, 3], 1: [0, 2], 2: [1, 0, 5], 3: [0, 4], 4: [3, 7], 5: [2, 6], 6: [5, 7], 7: [4, 6]}\n"
          ]
        }
      ],
      "source": [
        "from queue import Queue\n",
        "graph = {0:[1,2,3], 1:[0,2], 2:[1,0,5], 3:[0,4], 4:[3,7], 5:[2,6], 6:[5,7], 7:[4,6] }\n",
        "print(\"the adjacency list representing the graph is:\")\n",
        "print(graph)"
      ]
    },
    {
      "cell_type": "code",
      "execution_count": 3,
      "metadata": {
        "colab": {
          "base_uri": "https://localhost:8080/"
        },
        "id": "FaRNLPJRejYB",
        "outputId": "e85efb0c-daa3-4964-9751-6dc61113948c"
      },
      "outputs": [
        {
          "output_type": "stream",
          "name": "stdout",
          "text": [
            "BFS traversal of graph with source 0 is:\n",
            "0-->1-->2-->3-->5-->4-->6-->7-->"
          ]
        }
      ],
      "source": [
        "def bfs(graph, source):\n",
        "  Q = Queue()\n",
        "  visited_vertices = set()\n",
        "  Q.put(source)\n",
        "  visited_vertices.update({source})\n",
        "  while not Q.empty():\n",
        "    vertex = Q.get()\n",
        "    print(vertex, end=\"-->\")\n",
        "    for u in graph [vertex]:\n",
        "      if u not in visited_vertices:\n",
        "        Q.put(u)\n",
        "        visited_vertices.update({u})\n",
        "\n",
        "\n",
        "print(\"BFS traversal of graph with source 0 is:\")\n",
        "bfs(graph,0)"
      ]
    },
    {
      "cell_type": "markdown",
      "metadata": {
        "id": "0VZLm0Btew2E"
      },
      "source": [
        "part2:implement depth first search algorithm"
      ]
    },
    {
      "cell_type": "code",
      "execution_count": 4,
      "metadata": {
        "colab": {
          "base_uri": "https://localhost:8080/"
        },
        "id": "MgsSDnX-exiq",
        "outputId": "0ea4e9cd-58ad-4e97-802b-231798684495"
      },
      "outputs": [
        {
          "output_type": "stream",
          "name": "stdout",
          "text": [
            "the adjacent list of the representing the graph is: \n",
            "{'A': ['C', 'D', 'G'], 'B': ['A'], 'C': ['A', 'D', 'F'], 'D': ['A', 'C', 'E', 'G', 'H'], 'E': ['D', 'F', 'H'], 'F': ['C', 'E'], 'G': ['A', 'D', 'H'], 'H': ['D', 'E', 'G']}\n"
          ]
        }
      ],
      "source": [
        "graph1 = {\n",
        "    'A' : ['C','D','G'],\n",
        "    'B' : ['A'],\n",
        "    'C' : ['A','D','F'],\n",
        "    'D' : ['A','C','E','G','H'],\n",
        "    'E' : ['D','F','H'],\n",
        "    'F' : ['C','E'],\n",
        "    'G' : ['A','D','H'],\n",
        "    'H' : ['D','E','G'],\n",
        "\n",
        "}\n",
        "print(\"the adjacent list of the representing the graph is: \")\n",
        "print(graph1)"
      ]
    },
    {
      "cell_type": "code",
      "execution_count": 5,
      "metadata": {
        "colab": {
          "base_uri": "https://localhost:8080/"
        },
        "id": "K7fzJS3oe4_z",
        "outputId": "1efe178d-b5cd-47c1-a41b-f70eee169876"
      },
      "outputs": [
        {
          "output_type": "stream",
          "name": "stdout",
          "text": [
            "['B', 'A', 'C', 'D', 'E', 'F', 'H', 'G']\n"
          ]
        }
      ],
      "source": [
        "def dfs(graph, node, visited):\n",
        "  if node not in visited:\n",
        "    visited.append(node)\n",
        "    for k in graph[node]:\n",
        "      dfs(graph,k, visited)\n",
        "  return visited\n",
        "\n",
        "visited = dfs(graph1,'B', [])\n",
        "print(visited)"
      ]
    },
    {
      "cell_type": "markdown",
      "metadata": {
        "id": "_4mh50VUe8LG"
      },
      "source": [
        "Part3: implement of A*Algorithm/or graph search algorithm"
      ]
    },
    {
      "cell_type": "code",
      "execution_count": 6,
      "metadata": {
        "id": "EbxNfGvFe9Dq"
      },
      "outputs": [],
      "source": [
        "from copy import deepcopy\n",
        "import numpy as np\n",
        "import time"
      ]
    }
  ],
  "metadata": {
    "colab": {
      "provenance": [],
      "include_colab_link": true
    },
    "kernelspec": {
      "display_name": "Python 3",
      "name": "python3"
    },
    "language_info": {
      "name": "python"
    }
  },
  "nbformat": 4,
  "nbformat_minor": 0
}